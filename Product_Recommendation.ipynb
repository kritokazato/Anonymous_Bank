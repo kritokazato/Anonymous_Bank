{
 "cells": [
  {
   "cell_type": "code",
   "execution_count": 1,
   "metadata": {},
   "outputs": [
    {
     "data": {
      "text/html": [
       "<div>\n",
       "<style scoped>\n",
       "    .dataframe tbody tr th:only-of-type {\n",
       "        vertical-align: middle;\n",
       "    }\n",
       "\n",
       "    .dataframe tbody tr th {\n",
       "        vertical-align: top;\n",
       "    }\n",
       "\n",
       "    .dataframe thead th {\n",
       "        text-align: right;\n",
       "    }\n",
       "</style>\n",
       "<table border=\"1\" class=\"dataframe\">\n",
       "  <thead>\n",
       "    <tr style=\"text-align: right;\">\n",
       "      <th></th>\n",
       "      <th>age</th>\n",
       "      <th>job</th>\n",
       "      <th>marital status</th>\n",
       "      <th>education</th>\n",
       "      <th>credit default?</th>\n",
       "      <th>housing loan?</th>\n",
       "      <th>Personal loan</th>\n",
       "      <th>y</th>\n",
       "    </tr>\n",
       "  </thead>\n",
       "  <tbody>\n",
       "    <tr>\n",
       "      <th>0</th>\n",
       "      <td>30</td>\n",
       "      <td>unemployed</td>\n",
       "      <td>married</td>\n",
       "      <td>primary</td>\n",
       "      <td>no</td>\n",
       "      <td>no</td>\n",
       "      <td>no</td>\n",
       "      <td>no</td>\n",
       "    </tr>\n",
       "    <tr>\n",
       "      <th>1</th>\n",
       "      <td>33</td>\n",
       "      <td>services</td>\n",
       "      <td>married</td>\n",
       "      <td>secondary</td>\n",
       "      <td>no</td>\n",
       "      <td>yes</td>\n",
       "      <td>yes</td>\n",
       "      <td>no</td>\n",
       "    </tr>\n",
       "    <tr>\n",
       "      <th>2</th>\n",
       "      <td>35</td>\n",
       "      <td>management</td>\n",
       "      <td>single</td>\n",
       "      <td>tertiary</td>\n",
       "      <td>no</td>\n",
       "      <td>yes</td>\n",
       "      <td>no</td>\n",
       "      <td>no</td>\n",
       "    </tr>\n",
       "    <tr>\n",
       "      <th>3</th>\n",
       "      <td>30</td>\n",
       "      <td>management</td>\n",
       "      <td>married</td>\n",
       "      <td>tertiary</td>\n",
       "      <td>no</td>\n",
       "      <td>yes</td>\n",
       "      <td>yes</td>\n",
       "      <td>no</td>\n",
       "    </tr>\n",
       "    <tr>\n",
       "      <th>4</th>\n",
       "      <td>59</td>\n",
       "      <td>blue-collar</td>\n",
       "      <td>married</td>\n",
       "      <td>secondary</td>\n",
       "      <td>no</td>\n",
       "      <td>yes</td>\n",
       "      <td>no</td>\n",
       "      <td>no</td>\n",
       "    </tr>\n",
       "  </tbody>\n",
       "</table>\n",
       "</div>"
      ],
      "text/plain": [
       "   age          job marital status   education credit default? housing loan?  \\\n",
       "0   30   unemployed         married    primary              no            no   \n",
       "1   33     services         married  secondary              no           yes   \n",
       "2   35   management          single   tertiary              no           yes   \n",
       "3   30   management         married   tertiary              no           yes   \n",
       "4   59  blue-collar         married  secondary              no           yes   \n",
       "\n",
       "  Personal loan   y  \n",
       "0            no  no  \n",
       "1           yes  no  \n",
       "2            no  no  \n",
       "3           yes  no  \n",
       "4            no  no  "
      ]
     },
     "execution_count": 1,
     "metadata": {},
     "output_type": "execute_result"
    }
   ],
   "source": [
    "import numpy as np\n",
    "import pandas as pd\n",
    "\n",
    "\n",
    "df = pd.read_csv('C:\\\\Users\\\\Mukesh\\\\Downloads\\\\COSS\\\\train.csv', sep=',') \n",
    "\n",
    "df.head()"
   ]
  },
  {
   "cell_type": "code",
   "execution_count": 2,
   "metadata": {},
   "outputs": [
    {
     "data": {
      "text/html": [
       "<div>\n",
       "<style scoped>\n",
       "    .dataframe tbody tr th:only-of-type {\n",
       "        vertical-align: middle;\n",
       "    }\n",
       "\n",
       "    .dataframe tbody tr th {\n",
       "        vertical-align: top;\n",
       "    }\n",
       "\n",
       "    .dataframe thead th {\n",
       "        text-align: right;\n",
       "    }\n",
       "</style>\n",
       "<table border=\"1\" class=\"dataframe\">\n",
       "  <thead>\n",
       "    <tr style=\"text-align: right;\">\n",
       "      <th></th>\n",
       "      <th>age</th>\n",
       "      <th>job</th>\n",
       "      <th>marital status</th>\n",
       "      <th>education</th>\n",
       "      <th>credit default?</th>\n",
       "      <th>housing loan?</th>\n",
       "      <th>Personal loan</th>\n",
       "      <th>y</th>\n",
       "    </tr>\n",
       "  </thead>\n",
       "  <tbody>\n",
       "    <tr>\n",
       "      <th>0</th>\n",
       "      <td>30</td>\n",
       "      <td>unemployed</td>\n",
       "      <td>married</td>\n",
       "      <td>primary</td>\n",
       "      <td>no</td>\n",
       "      <td>no</td>\n",
       "      <td>no</td>\n",
       "      <td>no</td>\n",
       "    </tr>\n",
       "    <tr>\n",
       "      <th>1</th>\n",
       "      <td>33</td>\n",
       "      <td>services</td>\n",
       "      <td>married</td>\n",
       "      <td>secondary</td>\n",
       "      <td>no</td>\n",
       "      <td>yes</td>\n",
       "      <td>yes</td>\n",
       "      <td>no</td>\n",
       "    </tr>\n",
       "    <tr>\n",
       "      <th>2</th>\n",
       "      <td>35</td>\n",
       "      <td>management</td>\n",
       "      <td>single</td>\n",
       "      <td>tertiary</td>\n",
       "      <td>no</td>\n",
       "      <td>yes</td>\n",
       "      <td>no</td>\n",
       "      <td>no</td>\n",
       "    </tr>\n",
       "    <tr>\n",
       "      <th>3</th>\n",
       "      <td>30</td>\n",
       "      <td>management</td>\n",
       "      <td>married</td>\n",
       "      <td>tertiary</td>\n",
       "      <td>no</td>\n",
       "      <td>yes</td>\n",
       "      <td>yes</td>\n",
       "      <td>no</td>\n",
       "    </tr>\n",
       "    <tr>\n",
       "      <th>4</th>\n",
       "      <td>59</td>\n",
       "      <td>blue-collar</td>\n",
       "      <td>married</td>\n",
       "      <td>secondary</td>\n",
       "      <td>no</td>\n",
       "      <td>yes</td>\n",
       "      <td>no</td>\n",
       "      <td>no</td>\n",
       "    </tr>\n",
       "  </tbody>\n",
       "</table>\n",
       "</div>"
      ],
      "text/plain": [
       "   age          job marital status   education credit default? housing loan?  \\\n",
       "0   30   unemployed         married    primary              no            no   \n",
       "1   33     services         married  secondary              no           yes   \n",
       "2   35   management          single   tertiary              no           yes   \n",
       "3   30   management         married   tertiary              no           yes   \n",
       "4   59  blue-collar         married  secondary              no           yes   \n",
       "\n",
       "  Personal loan   y  \n",
       "0            no  no  \n",
       "1           yes  no  \n",
       "2            no  no  \n",
       "3           yes  no  \n",
       "4            no  no  "
      ]
     },
     "execution_count": 2,
     "metadata": {},
     "output_type": "execute_result"
    }
   ],
   "source": [
    "obj_df = df.copy()\n",
    "obj_df.head()"
   ]
  },
  {
   "cell_type": "code",
   "execution_count": 3,
   "metadata": {
    "scrolled": true
   },
   "outputs": [
    {
     "data": {
      "text/html": [
       "<div>\n",
       "<style scoped>\n",
       "    .dataframe tbody tr th:only-of-type {\n",
       "        vertical-align: middle;\n",
       "    }\n",
       "\n",
       "    .dataframe tbody tr th {\n",
       "        vertical-align: top;\n",
       "    }\n",
       "\n",
       "    .dataframe thead th {\n",
       "        text-align: right;\n",
       "    }\n",
       "</style>\n",
       "<table border=\"1\" class=\"dataframe\">\n",
       "  <thead>\n",
       "    <tr style=\"text-align: right;\">\n",
       "      <th></th>\n",
       "      <th>age</th>\n",
       "      <th>job</th>\n",
       "      <th>marital status</th>\n",
       "      <th>education</th>\n",
       "      <th>credit default?</th>\n",
       "      <th>housing loan?</th>\n",
       "      <th>Personal loan</th>\n",
       "      <th>y</th>\n",
       "      <th>job_cat</th>\n",
       "      <th>marital status_cat</th>\n",
       "      <th>education_cat</th>\n",
       "      <th>credit default_cat</th>\n",
       "      <th>housing loan_cat</th>\n",
       "      <th>Personal loan_cat</th>\n",
       "      <th>y_cat</th>\n",
       "    </tr>\n",
       "  </thead>\n",
       "  <tbody>\n",
       "    <tr>\n",
       "      <th>0</th>\n",
       "      <td>30</td>\n",
       "      <td>unemployed</td>\n",
       "      <td>married</td>\n",
       "      <td>primary</td>\n",
       "      <td>no</td>\n",
       "      <td>no</td>\n",
       "      <td>no</td>\n",
       "      <td>no</td>\n",
       "      <td>10</td>\n",
       "      <td>1</td>\n",
       "      <td>0</td>\n",
       "      <td>0</td>\n",
       "      <td>0</td>\n",
       "      <td>0</td>\n",
       "      <td>0</td>\n",
       "    </tr>\n",
       "    <tr>\n",
       "      <th>1</th>\n",
       "      <td>33</td>\n",
       "      <td>services</td>\n",
       "      <td>married</td>\n",
       "      <td>secondary</td>\n",
       "      <td>no</td>\n",
       "      <td>yes</td>\n",
       "      <td>yes</td>\n",
       "      <td>no</td>\n",
       "      <td>7</td>\n",
       "      <td>1</td>\n",
       "      <td>1</td>\n",
       "      <td>0</td>\n",
       "      <td>2</td>\n",
       "      <td>1</td>\n",
       "      <td>0</td>\n",
       "    </tr>\n",
       "    <tr>\n",
       "      <th>2</th>\n",
       "      <td>35</td>\n",
       "      <td>management</td>\n",
       "      <td>single</td>\n",
       "      <td>tertiary</td>\n",
       "      <td>no</td>\n",
       "      <td>yes</td>\n",
       "      <td>no</td>\n",
       "      <td>no</td>\n",
       "      <td>4</td>\n",
       "      <td>2</td>\n",
       "      <td>2</td>\n",
       "      <td>0</td>\n",
       "      <td>2</td>\n",
       "      <td>0</td>\n",
       "      <td>0</td>\n",
       "    </tr>\n",
       "    <tr>\n",
       "      <th>3</th>\n",
       "      <td>30</td>\n",
       "      <td>management</td>\n",
       "      <td>married</td>\n",
       "      <td>tertiary</td>\n",
       "      <td>no</td>\n",
       "      <td>yes</td>\n",
       "      <td>yes</td>\n",
       "      <td>no</td>\n",
       "      <td>4</td>\n",
       "      <td>1</td>\n",
       "      <td>2</td>\n",
       "      <td>0</td>\n",
       "      <td>2</td>\n",
       "      <td>1</td>\n",
       "      <td>0</td>\n",
       "    </tr>\n",
       "    <tr>\n",
       "      <th>4</th>\n",
       "      <td>59</td>\n",
       "      <td>blue-collar</td>\n",
       "      <td>married</td>\n",
       "      <td>secondary</td>\n",
       "      <td>no</td>\n",
       "      <td>yes</td>\n",
       "      <td>no</td>\n",
       "      <td>no</td>\n",
       "      <td>1</td>\n",
       "      <td>1</td>\n",
       "      <td>1</td>\n",
       "      <td>0</td>\n",
       "      <td>2</td>\n",
       "      <td>0</td>\n",
       "      <td>0</td>\n",
       "    </tr>\n",
       "  </tbody>\n",
       "</table>\n",
       "</div>"
      ],
      "text/plain": [
       "   age          job marital status   education credit default? housing loan?  \\\n",
       "0   30   unemployed         married    primary              no            no   \n",
       "1   33     services         married  secondary              no           yes   \n",
       "2   35   management          single   tertiary              no           yes   \n",
       "3   30   management         married   tertiary              no           yes   \n",
       "4   59  blue-collar         married  secondary              no           yes   \n",
       "\n",
       "  Personal loan   y  job_cat  marital status_cat  education_cat  \\\n",
       "0            no  no       10                   1              0   \n",
       "1           yes  no        7                   1              1   \n",
       "2            no  no        4                   2              2   \n",
       "3           yes  no        4                   1              2   \n",
       "4            no  no        1                   1              1   \n",
       "\n",
       "   credit default_cat  housing loan_cat  Personal loan_cat  y_cat  \n",
       "0                   0                 0                  0      0  \n",
       "1                   0                 2                  1      0  \n",
       "2                   0                 2                  0      0  \n",
       "3                   0                 2                  1      0  \n",
       "4                   0                 2                  0      0  "
      ]
     },
     "execution_count": 3,
     "metadata": {},
     "output_type": "execute_result"
    }
   ],
   "source": [
    "obj_df[obj_df.isnull().any(axis=1)]\n",
    "\n",
    "\n",
    "\n",
    "#Replace the NAN's with Mode, Since it was given \"For Categorical Value replace it with Mode\"\n",
    "obj_df['job'].fillna(obj_df['job'].mode()[0], inplace=True)\n",
    "\n",
    "obj_df['marital status '].fillna(obj_df['marital status '].mode()[0], inplace=True)\n",
    "obj_df['education'].fillna(obj_df['education'].mode()[0], inplace=True)\n",
    "obj_df['credit default?'].fillna(obj_df['credit default?'].mode()[0], inplace=True)\n",
    "obj_df['housing loan?'].fillna(obj_df['housing loan?'].mode()[0], inplace=True)\n",
    "obj_df['Personal loan'].fillna(obj_df['Personal loan'].mode()[0], inplace=True)\n",
    "\n",
    "\n",
    "obj_df[\"job\"] = obj_df[\"job\"].astype('category')\n",
    "obj_df.dtypes\n",
    "\n",
    "obj_df[\"job_cat\"] = obj_df[\"job\"].cat.codes\n",
    "obj_df.head()\n",
    "\n",
    "obj_df[\"marital status \"] = obj_df[\"marital status \"].astype('category')\n",
    "obj_df.dtypes\n",
    "\n",
    "obj_df[\"marital status_cat\"] = obj_df[\"marital status \"].cat.codes\n",
    "obj_df.head()\n",
    "\n",
    "\n",
    "obj_df[\"education\"] = obj_df[\"education\"].astype('category')\n",
    "obj_df.dtypes\n",
    "\n",
    "obj_df[\"education_cat\"] = obj_df[\"education\"].cat.codes\n",
    "obj_df.head()\n",
    "\n",
    "\n",
    "obj_df[\"credit default?\"] = obj_df[\"credit default?\"].astype('category')\n",
    "obj_df.dtypes\n",
    "\n",
    "obj_df[\"credit default_cat\"] = obj_df[\"credit default?\"].cat.codes\n",
    "obj_df.head()\n",
    "\n",
    "\n",
    "obj_df[\"housing loan?\"] = obj_df[\"housing loan?\"].astype('category')\n",
    "obj_df.dtypes\n",
    "\n",
    "obj_df[\"housing loan_cat\"] = obj_df[\"housing loan?\"].cat.codes\n",
    "obj_df.head()\n",
    "\n",
    "obj_df[\"Personal loan\"] = obj_df[\"Personal loan\"].astype('category')\n",
    "obj_df.dtypes\n",
    "\n",
    "obj_df[\"Personal loan_cat\"] = obj_df[\"Personal loan\"].cat.codes\n",
    "obj_df.head()\n",
    "\n",
    "\n",
    "obj_df[\"y\"] = obj_df[\"y\"].astype('category')\n",
    "obj_df.dtypes\n",
    "\n",
    "obj_df[\"y_cat\"] = obj_df[\"y\"].cat.codes\n",
    "obj_df.head()"
   ]
  },
  {
   "cell_type": "code",
   "execution_count": 4,
   "metadata": {
    "scrolled": true
   },
   "outputs": [
    {
     "data": {
      "text/plain": [
       "no     897\n",
       "yes    124\n",
       "Name: y, dtype: int64"
      ]
     },
     "execution_count": 4,
     "metadata": {},
     "output_type": "execute_result"
    }
   ],
   "source": [
    "df['y'].value_counts()"
   ]
  },
  {
   "cell_type": "code",
   "execution_count": 5,
   "metadata": {},
   "outputs": [],
   "source": [
    "#Steps to balance the class variables\n",
    "# Separate majority and minority classes\n",
    "df_majority = obj_df[obj_df.y=='no']\n",
    "df_minority = obj_df[obj_df.y=='yes']"
   ]
  },
  {
   "cell_type": "code",
   "execution_count": 6,
   "metadata": {},
   "outputs": [],
   "source": [
    "from sklearn.utils import resample\n",
    "# Upsample minority class\n",
    "df_minority_upsampled = resample(df_minority, \n",
    "                                 replace=True,     # sample with replacement\n",
    "                                 n_samples=897,    # to match majority class\n",
    "                                 random_state=123) # reproducible results\n"
   ]
  },
  {
   "cell_type": "code",
   "execution_count": 7,
   "metadata": {},
   "outputs": [
    {
     "data": {
      "text/plain": [
       "1    897\n",
       "0    897\n",
       "Name: y_cat, dtype: int64"
      ]
     },
     "execution_count": 7,
     "metadata": {},
     "output_type": "execute_result"
    }
   ],
   "source": [
    "# Combine majority class with upsampled minority class\n",
    "df_upsampled = pd.concat([df_majority, df_minority_upsampled])\n",
    "df_upsampled.y_cat.value_counts()"
   ]
  },
  {
   "cell_type": "code",
   "execution_count": 8,
   "metadata": {},
   "outputs": [
    {
     "data": {
      "text/html": [
       "<div>\n",
       "<style scoped>\n",
       "    .dataframe tbody tr th:only-of-type {\n",
       "        vertical-align: middle;\n",
       "    }\n",
       "\n",
       "    .dataframe tbody tr th {\n",
       "        vertical-align: top;\n",
       "    }\n",
       "\n",
       "    .dataframe thead th {\n",
       "        text-align: right;\n",
       "    }\n",
       "</style>\n",
       "<table border=\"1\" class=\"dataframe\">\n",
       "  <thead>\n",
       "    <tr style=\"text-align: right;\">\n",
       "      <th></th>\n",
       "      <th>age</th>\n",
       "      <th>job</th>\n",
       "      <th>marital status</th>\n",
       "      <th>education</th>\n",
       "      <th>credit default?</th>\n",
       "      <th>housing loan?</th>\n",
       "      <th>Personal loan</th>\n",
       "      <th>y</th>\n",
       "      <th>job_cat</th>\n",
       "      <th>marital status_cat</th>\n",
       "      <th>education_cat</th>\n",
       "      <th>credit default_cat</th>\n",
       "      <th>housing loan_cat</th>\n",
       "      <th>Personal loan_cat</th>\n",
       "      <th>y_cat</th>\n",
       "    </tr>\n",
       "  </thead>\n",
       "  <tbody>\n",
       "    <tr>\n",
       "      <th>0</th>\n",
       "      <td>30</td>\n",
       "      <td>unemployed</td>\n",
       "      <td>married</td>\n",
       "      <td>primary</td>\n",
       "      <td>no</td>\n",
       "      <td>no</td>\n",
       "      <td>no</td>\n",
       "      <td>no</td>\n",
       "      <td>10</td>\n",
       "      <td>1</td>\n",
       "      <td>0</td>\n",
       "      <td>0</td>\n",
       "      <td>0</td>\n",
       "      <td>0</td>\n",
       "      <td>0</td>\n",
       "    </tr>\n",
       "    <tr>\n",
       "      <th>1</th>\n",
       "      <td>33</td>\n",
       "      <td>services</td>\n",
       "      <td>married</td>\n",
       "      <td>secondary</td>\n",
       "      <td>no</td>\n",
       "      <td>yes</td>\n",
       "      <td>yes</td>\n",
       "      <td>no</td>\n",
       "      <td>7</td>\n",
       "      <td>1</td>\n",
       "      <td>1</td>\n",
       "      <td>0</td>\n",
       "      <td>2</td>\n",
       "      <td>1</td>\n",
       "      <td>0</td>\n",
       "    </tr>\n",
       "    <tr>\n",
       "      <th>2</th>\n",
       "      <td>35</td>\n",
       "      <td>management</td>\n",
       "      <td>single</td>\n",
       "      <td>tertiary</td>\n",
       "      <td>no</td>\n",
       "      <td>yes</td>\n",
       "      <td>no</td>\n",
       "      <td>no</td>\n",
       "      <td>4</td>\n",
       "      <td>2</td>\n",
       "      <td>2</td>\n",
       "      <td>0</td>\n",
       "      <td>2</td>\n",
       "      <td>0</td>\n",
       "      <td>0</td>\n",
       "    </tr>\n",
       "    <tr>\n",
       "      <th>3</th>\n",
       "      <td>30</td>\n",
       "      <td>management</td>\n",
       "      <td>married</td>\n",
       "      <td>tertiary</td>\n",
       "      <td>no</td>\n",
       "      <td>yes</td>\n",
       "      <td>yes</td>\n",
       "      <td>no</td>\n",
       "      <td>4</td>\n",
       "      <td>1</td>\n",
       "      <td>2</td>\n",
       "      <td>0</td>\n",
       "      <td>2</td>\n",
       "      <td>1</td>\n",
       "      <td>0</td>\n",
       "    </tr>\n",
       "    <tr>\n",
       "      <th>4</th>\n",
       "      <td>59</td>\n",
       "      <td>blue-collar</td>\n",
       "      <td>married</td>\n",
       "      <td>secondary</td>\n",
       "      <td>no</td>\n",
       "      <td>yes</td>\n",
       "      <td>no</td>\n",
       "      <td>no</td>\n",
       "      <td>1</td>\n",
       "      <td>1</td>\n",
       "      <td>1</td>\n",
       "      <td>0</td>\n",
       "      <td>2</td>\n",
       "      <td>0</td>\n",
       "      <td>0</td>\n",
       "    </tr>\n",
       "  </tbody>\n",
       "</table>\n",
       "</div>"
      ],
      "text/plain": [
       "   age          job marital status   education credit default? housing loan?  \\\n",
       "0   30   unemployed         married    primary              no            no   \n",
       "1   33     services         married  secondary              no           yes   \n",
       "2   35   management          single   tertiary              no           yes   \n",
       "3   30   management         married   tertiary              no           yes   \n",
       "4   59  blue-collar         married  secondary              no           yes   \n",
       "\n",
       "  Personal loan   y  job_cat  marital status_cat  education_cat  \\\n",
       "0            no  no       10                   1              0   \n",
       "1           yes  no        7                   1              1   \n",
       "2            no  no        4                   2              2   \n",
       "3           yes  no        4                   1              2   \n",
       "4            no  no        1                   1              1   \n",
       "\n",
       "   credit default_cat  housing loan_cat  Personal loan_cat  y_cat  \n",
       "0                   0                 0                  0      0  \n",
       "1                   0                 2                  1      0  \n",
       "2                   0                 2                  0      0  \n",
       "3                   0                 2                  1      0  \n",
       "4                   0                 2                  0      0  "
      ]
     },
     "execution_count": 8,
     "metadata": {},
     "output_type": "execute_result"
    }
   ],
   "source": [
    "df_upsampled.head()"
   ]
  },
  {
   "cell_type": "code",
   "execution_count": 9,
   "metadata": {},
   "outputs": [
    {
     "name": "stdout",
     "output_type": "stream",
     "text": [
      "   age  job_cat  marital status_cat  education_cat  credit default_cat  \\\n",
      "0   30       10                   1              0                   0   \n",
      "1   33        7                   1              1                   0   \n",
      "2   35        4                   2              2                   0   \n",
      "3   30        4                   1              2                   0   \n",
      "4   59        1                   1              1                   0   \n",
      "\n",
      "   housing loan_cat  Personal loan_cat  \n",
      "0                 0                  0  \n",
      "1                 2                  1  \n",
      "2                 2                  0  \n",
      "3                 2                  1  \n",
      "4                 2                  0  \n"
     ]
    }
   ],
   "source": [
    "Y = df_upsampled.iloc[:,14]  \n",
    "X = df_upsampled.iloc[:,[0,8,9,10,11,12,13]]\n",
    "\n",
    "print(X.head())"
   ]
  },
  {
   "cell_type": "code",
   "execution_count": 10,
   "metadata": {},
   "outputs": [
    {
     "name": "stdout",
     "output_type": "stream",
     "text": [
      "Accuracy: 0.9239332096474954\n"
     ]
    }
   ],
   "source": [
    "from sklearn.tree import DecisionTreeClassifier # Import Decision Tree Classifier\n",
    "from sklearn.model_selection import train_test_split # Import train_test_split function\n",
    "from sklearn import metrics #Import scikit-learn metrics module for accuracy calculation\n",
    "\n",
    "\n",
    "X_train, X_test, Y_train, Y_test = train_test_split(X, Y, test_size=0.3, random_state=1)\n",
    "\n",
    "# Create Decision Tree classifer object\n",
    "clf = DecisionTreeClassifier(criterion=\"entropy\")\n",
    "\n",
    "# Train Decision Tree Classifer\n",
    "clf = clf.fit(X_train,Y_train)\n",
    "\n",
    "#Predict the response for test dataset\n",
    "Y_pred = clf.predict(X_test)\n",
    "\n",
    "print(\"Accuracy:\",metrics.accuracy_score(Y_test, Y_pred))"
   ]
  },
  {
   "cell_type": "code",
   "execution_count": 11,
   "metadata": {},
   "outputs": [
    {
     "name": "stdout",
     "output_type": "stream",
     "text": [
      "Accuracy: 0.9239332096474954\n"
     ]
    }
   ],
   "source": [
    "from sklearn.ensemble import RandomForestClassifier\n",
    "\n",
    "# Create the model with 100 trees\n",
    "model = RandomForestClassifier(n_estimators=10,\n",
    "                               bootstrap = True,\n",
    "                               max_features = 'sqrt')\n",
    "# Fit on training data\n",
    "model.fit(X_train,Y_train)\n",
    "\n",
    "#Predict the response for test dataset\n",
    "Y_pred = model.predict(X_test)\n",
    "\n",
    "print(\"Accuracy:\",metrics.accuracy_score(Y_test, Y_pred))"
   ]
  },
  {
   "cell_type": "code",
   "execution_count": 12,
   "metadata": {},
   "outputs": [
    {
     "name": "stdout",
     "output_type": "stream",
     "text": [
      "Accuracy: 0.5936920222634509\n"
     ]
    }
   ],
   "source": [
    "from sklearn.naive_bayes import GaussianNB\n",
    "model = GaussianNB()\n",
    "\n",
    "# Train the model using the training sets\n",
    "model.fit(X_train,Y_train)\n",
    "\n",
    "#Predict Output\n",
    "predicted= model.predict(X_test) # 0: <=50K , 1: >50K\n",
    "\n",
    "print(\"Accuracy:\",metrics.accuracy_score(Y_test, predicted))"
   ]
  },
  {
   "cell_type": "code",
   "execution_count": 13,
   "metadata": {},
   "outputs": [
    {
     "name": "stdout",
     "output_type": "stream",
     "text": [
      "Accuracy: 0.5677179962894249\n"
     ]
    }
   ],
   "source": [
    "from sklearn.naive_bayes import BernoulliNB\n",
    "model = BernoulliNB()\n",
    "\n",
    "# Train the model using the training sets\n",
    "model.fit(X_train,Y_train)\n",
    "\n",
    "#Predict Output\n",
    "predicted= model.predict(X_test) # 0: <=50K , 1: >50K\n",
    "\n",
    "print(\"Accuracy:\",metrics.accuracy_score(Y_test, predicted))"
   ]
  },
  {
   "cell_type": "code",
   "execution_count": 14,
   "metadata": {},
   "outputs": [
    {
     "name": "stdout",
     "output_type": "stream",
     "text": [
      "Accuracy: 0.7922077922077922\n"
     ]
    },
    {
     "name": "stderr",
     "output_type": "stream",
     "text": [
      "C:\\Users\\Mukesh\\Anaconda3\\lib\\site-packages\\sklearn\\svm\\base.py:196: FutureWarning: The default value of gamma will change from 'auto' to 'scale' in version 0.22 to account better for unscaled features. Set gamma explicitly to 'auto' or 'scale' to avoid this warning.\n",
      "  \"avoid this warning.\", FutureWarning)\n"
     ]
    }
   ],
   "source": [
    "from sklearn import svm\n",
    "\n",
    "svm = svm.SVC()\n",
    "\n",
    "# Train the model using the training sets\n",
    "svm.fit(X_train,Y_train)\n",
    "\n",
    "#Predict Output\n",
    "predicted= svm.predict(X_test) # 0: <=50K , 1: >50K\n",
    "\n",
    "print(\"Accuracy:\",metrics.accuracy_score(Y_test, predicted))"
   ]
  },
  {
   "cell_type": "code",
   "execution_count": 24,
   "metadata": {},
   "outputs": [
    {
     "name": "stdout",
     "output_type": "stream",
     "text": [
      "Accuracy: 0.5992578849721707\n"
     ]
    },
    {
     "name": "stderr",
     "output_type": "stream",
     "text": [
      "C:\\Users\\Mukesh\\Anaconda3\\lib\\site-packages\\sklearn\\neural_network\\multilayer_perceptron.py:562: ConvergenceWarning: Stochastic Optimizer: Maximum iterations (200) reached and the optimization hasn't converged yet.\n",
      "  % self.max_iter, ConvergenceWarning)\n"
     ]
    }
   ],
   "source": [
    "from sklearn.neural_network import MLPClassifier\n",
    "\n",
    "MLP = MLPClassifier(alpha=0.1, hidden_layer_sizes=(10,))\n",
    "\n",
    "# Train the model using the training sets\n",
    "MLP.fit(X_train,Y_train)\n",
    "\n",
    "#Predict Output\n",
    "predicted= MLP.predict(X_test) # 0: <=50K , 1: >50K\n",
    "\n",
    "print(\"Accuracy:\",metrics.accuracy_score(Y_test, predicted))"
   ]
  },
  {
   "cell_type": "code",
   "execution_count": 30,
   "metadata": {},
   "outputs": [
    {
     "name": "stdout",
     "output_type": "stream",
     "text": [
      "Accuracy: 0.7847866419294991\n"
     ]
    }
   ],
   "source": [
    "from sklearn.ensemble import GradientBoostingClassifier\n",
    "from sklearn.model_selection import cross_val_score\n",
    "\n",
    "#ada = AdaBoostClassifier(n_estimators=100)\n",
    "\n",
    "ada = GradientBoostingClassifier(n_estimators=1000, learning_rate=0.01, random_state=3).fit(X_train, Y_train)\n",
    "\n",
    "#Predict Output\n",
    "predicted= ada.predict(X_test) # 0: <=50K , 1: >50K\n",
    "\n",
    "print(\"Accuracy:\",metrics.accuracy_score(Y_test, predicted))\n"
   ]
  },
  {
   "cell_type": "code",
   "execution_count": 31,
   "metadata": {},
   "outputs": [
    {
     "name": "stdout",
     "output_type": "stream",
     "text": [
      "     age  job_cat  marital status_cat  education_cat  credit default_cat  \\\n",
      "947   49        1                   2              0                   0   \n",
      "339   51        6                   0              0                   0   \n",
      "758   47        1                   0              0                   0   \n",
      "215   42        4                   1              2                   0   \n",
      "550   54        1                   1              0                   0   \n",
      "\n",
      "     housing loan_cat  Personal loan_cat  \n",
      "947                 2                  0  \n",
      "339                 0                  0  \n",
      "758                 2                  0  \n",
      "215                 2                  0  \n",
      "550                 0                  0  \n",
      "    0  1  2  3  4  5  6\n",
      "0  33  9  1  2  0  3  2\n",
      "0\n",
      "[[1.0, 0.0]]\n"
     ]
    }
   ],
   "source": [
    "import pickle\n",
    "print(X_test.head())\n",
    "\n",
    "lst = [[33, 9, 1, 2, 0, 3, 2]]\n",
    "\n",
    "\n",
    "df_lst = pd.DataFrame(lst) \n",
    "print(df_lst)\n",
    "\n",
    "result = clf.predict(df_lst)\n",
    "print(result[0].astype(str))\n",
    "\n",
    "perc= clf.predict_proba(df_lst)\n",
    "perc_lst =perc.tolist()\n",
    "print(perc_lst)\n",
    "#print (perc_lst[0][0])\n",
    "#print (perc_lst[0][1]) \n"
   ]
  },
  {
   "cell_type": "code",
   "execution_count": 32,
   "metadata": {},
   "outputs": [],
   "source": [
    "pickle.dump(clf, open('model.pkl', 'wb'))"
   ]
  },
  {
   "cell_type": "code",
   "execution_count": null,
   "metadata": {},
   "outputs": [],
   "source": []
  },
  {
   "cell_type": "code",
   "execution_count": null,
   "metadata": {},
   "outputs": [],
   "source": [
    "\n"
   ]
  }
 ],
 "metadata": {
  "kernelspec": {
   "display_name": "Python 3",
   "language": "python",
   "name": "python3"
  },
  "language_info": {
   "codemirror_mode": {
    "name": "ipython",
    "version": 3
   },
   "file_extension": ".py",
   "mimetype": "text/x-python",
   "name": "python",
   "nbconvert_exporter": "python",
   "pygments_lexer": "ipython3",
   "version": "3.7.3"
  }
 },
 "nbformat": 4,
 "nbformat_minor": 2
}
